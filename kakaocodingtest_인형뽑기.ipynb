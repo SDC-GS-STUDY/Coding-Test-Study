{
  "nbformat": 4,
  "nbformat_minor": 0,
  "metadata": {
    "colab": {
      "name": "kakaocodingtest_인형뽑기.ipynb",
      "provenance": []
    },
    "kernelspec": {
      "name": "python3",
      "display_name": "Python 3"
    },
    "language_info": {
      "name": "python"
    }
  },
  "cells": [
    {
      "cell_type": "code",
      "execution_count": 1,
      "metadata": {
        "id": "EDXhx63b1xro"
      },
      "outputs": [],
      "source": [
        "def solution(board, moves):\n",
        "    goal = [] # 인형 통에 추가\n",
        "    answer = 0 \n",
        "\n",
        "    for i in moves:\n",
        "        for k in range(len(board)): # 주어진 board의 행들, len 함수 써서 수로 뽑아내기 \n",
        "            if board[k][i-1] != 0:  # 맨 위에서부터 0이 아닌 첫 수를 찾아냄 \n",
        "                goal.append(board[k][i-1]) # 뽑은 인형 통에다가 append\n",
        "                board[k][i-1] = 0 # 뽑은 인형 0으로 바꾸기\n",
        "\n",
        "                if len(goal) > 1:  # 뽑은 인형이 2개 이상일 경우\n",
        "                    if goal[-1] == goal[-2]: # 두 개가 같을 경우 빼주고 ... \n",
        "                        goal.pop(-1)\n",
        "                        goal.pop(-1)\n",
        "                        answer += 2    \n",
        "                break\n",
        "\n",
        "    return answer"
      ]
    }
  ]
}